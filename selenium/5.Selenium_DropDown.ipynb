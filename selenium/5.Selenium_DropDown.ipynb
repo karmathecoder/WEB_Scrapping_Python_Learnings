{
 "cells": [
  {
   "cell_type": "code",
   "execution_count": 1,
   "id": "f207fc0a",
   "metadata": {},
   "outputs": [],
   "source": [
    "from selenium import webdriver\n",
    "from selenium.webdriver.common.by import By"
   ]
  },
  {
   "cell_type": "code",
   "execution_count": 2,
   "id": "48905cc6",
   "metadata": {},
   "outputs": [
    {
     "name": "stderr",
     "output_type": "stream",
     "text": [
      "C:\\Users\\karma\\AppData\\Local\\Temp\\ipykernel_19932\\3619007654.py:1: DeprecationWarning: executable_path has been deprecated, please pass in a Service object\n",
      "  driver = webdriver.Chrome(executable_path='webdriver/chrome/chromedriver.exe')\n"
     ]
    }
   ],
   "source": [
    "driver = webdriver.Chrome(executable_path='webdriver/chrome/chromedriver.exe')\n",
    "driver.maximize_window()"
   ]
  },
  {
   "cell_type": "code",
   "execution_count": 3,
   "id": "8143a403",
   "metadata": {},
   "outputs": [],
   "source": [
    "driver.get('https://demoqa.com/automation-practice-form')"
   ]
  },
  {
   "cell_type": "markdown",
   "id": "2d2a854a",
   "metadata": {},
   "source": [
    "#### Finding Checkboxes"
   ]
  },
  {
   "cell_type": "code",
   "execution_count": 8,
   "id": "4cad19e1",
   "metadata": {},
   "outputs": [],
   "source": [
    "hobbies = driver.find_elements(By.CSS_SELECTOR,'input[type=\"checkbox\"]')"
   ]
  },
  {
   "cell_type": "code",
   "execution_count": 9,
   "id": "1e0c4b2a",
   "metadata": {},
   "outputs": [
    {
     "data": {
      "text/plain": [
       "'1'"
      ]
     },
     "execution_count": 9,
     "metadata": {},
     "output_type": "execute_result"
    }
   ],
   "source": [
    "hobbies[0].get_attribute('value')"
   ]
  },
  {
   "cell_type": "code",
   "execution_count": 10,
   "id": "40b5ddb8",
   "metadata": {},
   "outputs": [],
   "source": [
    "for i in hobbies:\n",
    "    #here '1' is value of sports\n",
    "    if i.get_attribute('Value') == '1':\n",
    "        driver.execute_script(\"arguments[0].click();\", i)"
   ]
  },
  {
   "cell_type": "code",
   "execution_count": null,
   "id": "272192f7",
   "metadata": {},
   "outputs": [],
   "source": []
  }
 ],
 "metadata": {
  "kernelspec": {
   "display_name": "Python 3 (ipykernel)",
   "language": "python",
   "name": "python3"
  },
  "language_info": {
   "codemirror_mode": {
    "name": "ipython",
    "version": 3
   },
   "file_extension": ".py",
   "mimetype": "text/x-python",
   "name": "python",
   "nbconvert_exporter": "python",
   "pygments_lexer": "ipython3",
   "version": "3.10.5"
  }
 },
 "nbformat": 4,
 "nbformat_minor": 5
}
