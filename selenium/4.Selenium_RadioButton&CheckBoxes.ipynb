{
 "cells": [
  {
   "cell_type": "code",
   "execution_count": 1,
   "id": "f207fc0a",
   "metadata": {},
   "outputs": [],
   "source": [
    "from selenium import webdriver\n",
    "from selenium.webdriver.common.by import By"
   ]
  },
  {
   "cell_type": "code",
   "execution_count": 2,
   "id": "48905cc6",
   "metadata": {},
   "outputs": [
    {
     "name": "stderr",
     "output_type": "stream",
     "text": [
      "C:\\Users\\karma\\AppData\\Local\\Temp\\ipykernel_9988\\3619007654.py:1: DeprecationWarning: executable_path has been deprecated, please pass in a Service object\n",
      "  driver = webdriver.Chrome(executable_path='webdriver/chrome/chromedriver.exe')\n"
     ]
    }
   ],
   "source": [
    "driver = webdriver.Chrome(executable_path='webdriver/chrome/chromedriver.exe')\n",
    "driver.maximize_window()"
   ]
  },
  {
   "cell_type": "code",
   "execution_count": 3,
   "id": "8143a403",
   "metadata": {},
   "outputs": [],
   "source": [
    "driver.get('https://demoqa.com/automation-practice-form')"
   ]
  },
  {
   "cell_type": "code",
   "execution_count": 5,
   "id": "5260364a",
   "metadata": {},
   "outputs": [],
   "source": [
    "driver.refresh()"
   ]
  },
  {
   "cell_type": "markdown",
   "id": "9f629287",
   "metadata": {},
   "source": [
    "## Radio Button (can_select_only_1)"
   ]
  },
  {
   "cell_type": "markdown",
   "id": "b05a1626",
   "metadata": {},
   "source": [
    "#### Finding button first"
   ]
  },
  {
   "cell_type": "code",
   "execution_count": 6,
   "id": "696cbb1e",
   "metadata": {},
   "outputs": [
    {
     "data": {
      "text/plain": [
       "'<input name=\"gender\" required=\"\" type=\"radio\" id=\"gender-radio-1\" class=\"custom-control-input\" value=\"Male\">'"
      ]
     },
     "execution_count": 6,
     "metadata": {},
     "output_type": "execute_result"
    }
   ],
   "source": [
    "gender = driver.find_elements(By.CSS_SELECTOR,'input[type=\"radio\"]')\n",
    "#gender.click()\n",
    "gender[0].get_attribute('outerHTML')"
   ]
  },
  {
   "cell_type": "markdown",
   "id": "90c52882",
   "metadata": {},
   "source": [
    "#### Clicking on the radio button"
   ]
  },
  {
   "cell_type": "code",
   "execution_count": 7,
   "id": "4a5758a3",
   "metadata": {},
   "outputs": [],
   "source": [
    "driver.execute_script(\"arguments[0].click();\", gender[0])"
   ]
  },
  {
   "cell_type": "markdown",
   "id": "aa166030",
   "metadata": {},
   "source": [
    "#### Checking if it is already clicked or not"
   ]
  },
  {
   "cell_type": "code",
   "execution_count": 8,
   "id": "a35c272d",
   "metadata": {},
   "outputs": [
    {
     "data": {
      "text/plain": [
       "True"
      ]
     },
     "execution_count": 8,
     "metadata": {},
     "output_type": "execute_result"
    }
   ],
   "source": [
    "gender[0].is_selected()"
   ]
  },
  {
   "cell_type": "code",
   "execution_count": 9,
   "id": "f56f5a1c",
   "metadata": {},
   "outputs": [
    {
     "data": {
      "text/plain": [
       "False"
      ]
     },
     "execution_count": 9,
     "metadata": {},
     "output_type": "execute_result"
    }
   ],
   "source": [
    "gender[1].is_selected()    "
   ]
  },
  {
   "cell_type": "markdown",
   "id": "9b885935",
   "metadata": {},
   "source": [
    "## CheckBoxes (can_select_more_than_1)"
   ]
  },
  {
   "cell_type": "markdown",
   "id": "2d2a854a",
   "metadata": {},
   "source": [
    "#### Finding Checkboxes"
   ]
  },
  {
   "cell_type": "code",
   "execution_count": 10,
   "id": "4cad19e1",
   "metadata": {},
   "outputs": [],
   "source": [
    "hobbies = driver.find_elements(By.CSS_SELECTOR,'input[type=\"checkbox\"]')"
   ]
  },
  {
   "cell_type": "code",
   "execution_count": 11,
   "id": "1e0c4b2a",
   "metadata": {},
   "outputs": [
    {
     "data": {
      "text/plain": [
       "'1'"
      ]
     },
     "execution_count": 11,
     "metadata": {},
     "output_type": "execute_result"
    }
   ],
   "source": [
    "hobbies[0].get_attribute('value')"
   ]
  },
  {
   "cell_type": "code",
   "execution_count": 12,
   "id": "40b5ddb8",
   "metadata": {},
   "outputs": [],
   "source": [
    "for i in hobbies:\n",
    "    #here '1' is value of sports\n",
    "    if i.get_attribute('Value') == '1':\n",
    "        driver.execute_script(\"arguments[0].click();\", i)"
   ]
  },
  {
   "cell_type": "markdown",
   "id": "f11680e2",
   "metadata": {},
   "source": [
    "## DropDown"
   ]
  },
  {
   "cell_type": "code",
   "execution_count": 13,
   "id": "1ae89d79",
   "metadata": {},
   "outputs": [
    {
     "data": {
      "text/plain": [
       "'<div class=\" css-1wa3eu0-placeholder\">Select State</div>'"
      ]
     },
     "execution_count": 13,
     "metadata": {},
     "output_type": "execute_result"
    }
   ],
   "source": [
    "dropdown = driver.find_element(By.CSS_SELECTOR,'div[class=\" css-1wa3eu0-placeholder\"]')\n",
    "dropdown.get_attribute('outerHTML')"
   ]
  },
  {
   "cell_type": "code",
   "execution_count": 14,
   "id": "f80b360e",
   "metadata": {},
   "outputs": [],
   "source": []
  },
  {
   "cell_type": "code",
   "execution_count": null,
   "id": "fc08a515",
   "metadata": {},
   "outputs": [],
   "source": [
    "from selenium.webdriver.support.select import Select\n",
    "\n",
    "s = Select(dropdown[0])"
   ]
  },
  {
   "cell_type": "code",
   "execution_count": null,
   "id": "5ab5baad",
   "metadata": {},
   "outputs": [],
   "source": []
  }
 ],
 "metadata": {
  "kernelspec": {
   "display_name": "Python 3 (ipykernel)",
   "language": "python",
   "name": "python3"
  },
  "language_info": {
   "codemirror_mode": {
    "name": "ipython",
    "version": 3
   },
   "file_extension": ".py",
   "mimetype": "text/x-python",
   "name": "python",
   "nbconvert_exporter": "python",
   "pygments_lexer": "ipython3",
   "version": "3.10.5"
  }
 },
 "nbformat": 4,
 "nbformat_minor": 5
}
