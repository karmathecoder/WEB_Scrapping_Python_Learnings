{
 "cells": [
  {
   "cell_type": "markdown",
   "id": "05ad9c84",
   "metadata": {},
   "source": [
    "## Importing Selenium WebDriver"
   ]
  },
  {
   "cell_type": "code",
   "execution_count": 1,
   "id": "18ff74ca",
   "metadata": {},
   "outputs": [],
   "source": [
    "from selenium import webdriver"
   ]
  },
  {
   "cell_type": "markdown",
   "id": "065f7b95",
   "metadata": {},
   "source": [
    "##### Initializing Session"
   ]
  },
  {
   "cell_type": "code",
   "execution_count": 24,
   "id": "c9cdf509",
   "metadata": {},
   "outputs": [
    {
     "name": "stderr",
     "output_type": "stream",
     "text": [
      "C:\\Users\\karma\\AppData\\Local\\Temp\\ipykernel_872\\1167327620.py:1: DeprecationWarning: executable_path has been deprecated, please pass in a Service object\n",
      "  driver = webdriver.Chrome(executable_path='webdriver/chrome/chromedriver.exe')\n"
     ]
    },
    {
     "data": {
      "text/plain": [
       "<selenium.webdriver.chrome.webdriver.WebDriver (session=\"ecd8f7a97dcc3a17b53f04c7374d9174\")>"
      ]
     },
     "execution_count": 24,
     "metadata": {},
     "output_type": "execute_result"
    }
   ],
   "source": [
    "driver = webdriver.Chrome(executable_path='webdriver/chrome/chromedriver.exe')\n",
    "driver"
   ]
  },
  {
   "cell_type": "markdown",
   "id": "729787fe",
   "metadata": {},
   "source": [
    "#### Interacting "
   ]
  },
  {
   "cell_type": "code",
   "execution_count": 3,
   "id": "02cb5dbf",
   "metadata": {},
   "outputs": [],
   "source": [
    "driver.get('https:/codingninjas.in.')"
   ]
  },
  {
   "cell_type": "code",
   "execution_count": 4,
   "id": "cb6f8750",
   "metadata": {},
   "outputs": [
    {
     "data": {
      "text/plain": [
       "'Coding Ninjas – Learn coding online at India’s best coding institute'"
      ]
     },
     "execution_count": 4,
     "metadata": {},
     "output_type": "execute_result"
    }
   ],
   "source": [
    "driver.title"
   ]
  },
  {
   "cell_type": "markdown",
   "id": "1f5970fd",
   "metadata": {},
   "source": [
    "## Default Windows is not maximize so to maximize"
   ]
  },
  {
   "cell_type": "code",
   "execution_count": 5,
   "id": "4cab7c02",
   "metadata": {},
   "outputs": [],
   "source": [
    "driver.maximize_window()"
   ]
  },
  {
   "cell_type": "markdown",
   "id": "64684962",
   "metadata": {},
   "source": [
    "##### Refresh page"
   ]
  },
  {
   "cell_type": "code",
   "execution_count": 6,
   "id": "462ba1b4",
   "metadata": {},
   "outputs": [],
   "source": [
    "driver.refresh()"
   ]
  },
  {
   "cell_type": "markdown",
   "id": "0696e9fe",
   "metadata": {},
   "source": [
    "##### Checking current url"
   ]
  },
  {
   "cell_type": "code",
   "execution_count": 7,
   "id": "542c5add",
   "metadata": {},
   "outputs": [
    {
     "data": {
      "text/plain": [
       "'https://www.codingninjas.com/'"
      ]
     },
     "execution_count": 7,
     "metadata": {},
     "output_type": "execute_result"
    }
   ],
   "source": [
    "driver.current_url"
   ]
  },
  {
   "cell_type": "markdown",
   "id": "2dc2b625",
   "metadata": {},
   "source": [
    "# DataExtraction"
   ]
  },
  {
   "cell_type": "code",
   "execution_count": 8,
   "id": "fbb52c79",
   "metadata": {},
   "outputs": [],
   "source": [
    "from selenium.webdriver.common.by import By"
   ]
  },
  {
   "cell_type": "code",
   "execution_count": 9,
   "id": "edcc3ce6",
   "metadata": {},
   "outputs": [],
   "source": [
    "driver.get('https://books.toscrape.com/')"
   ]
  },
  {
   "cell_type": "code",
   "execution_count": 10,
   "id": "ae5734e6",
   "metadata": {},
   "outputs": [
    {
     "data": {
      "text/plain": [
       "<selenium.webdriver.remote.webelement.WebElement (session=\"35eb3b803f2f9b7ae6fbfd0b0eb58b72\", element=\"64d9aa9e-ee25-4473-b4e2-53ac4608105b\")>"
      ]
     },
     "execution_count": 10,
     "metadata": {},
     "output_type": "execute_result"
    }
   ],
   "source": [
    "c1 = driver.find_element(By.LINK_TEXT,'Music')\n",
    "c1"
   ]
  },
  {
   "cell_type": "code",
   "execution_count": 11,
   "id": "8de5f7b8",
   "metadata": {},
   "outputs": [],
   "source": [
    "c1.click()"
   ]
  },
  {
   "cell_type": "code",
   "execution_count": 12,
   "id": "62311644",
   "metadata": {},
   "outputs": [],
   "source": [
    "driver.back()"
   ]
  },
  {
   "cell_type": "markdown",
   "id": "93ecb068",
   "metadata": {},
   "source": [
    "## We have lots of Locate element"
   ]
  },
  {
   "cell_type": "code",
   "execution_count": 13,
   "id": "259c0358",
   "metadata": {},
   "outputs": [],
   "source": [
    "c2 = driver.find_element(By.CLASS_NAME,'page_inner')"
   ]
  },
  {
   "cell_type": "code",
   "execution_count": 16,
   "id": "5b88204b",
   "metadata": {
    "scrolled": true
   },
   "outputs": [
    {
     "data": {
      "text/plain": [
       "'Books to Scrape We love being scraped!'"
      ]
     },
     "execution_count": 16,
     "metadata": {},
     "output_type": "execute_result"
    }
   ],
   "source": [
    "c2.text"
   ]
  },
  {
   "cell_type": "code",
   "execution_count": null,
   "id": "dc89851c",
   "metadata": {},
   "outputs": [],
   "source": []
  },
  {
   "cell_type": "markdown",
   "id": "cd7b3226",
   "metadata": {},
   "source": [
    "## Filling In textBox"
   ]
  },
  {
   "cell_type": "code",
   "execution_count": 17,
   "id": "573027c8",
   "metadata": {},
   "outputs": [],
   "source": [
    "driver.get('https://www.google.com/')"
   ]
  },
  {
   "cell_type": "code",
   "execution_count": 18,
   "id": "9bf14ae9",
   "metadata": {},
   "outputs": [
    {
     "data": {
      "text/plain": [
       "'Google'"
      ]
     },
     "execution_count": 18,
     "metadata": {},
     "output_type": "execute_result"
    }
   ],
   "source": [
    "driver.title"
   ]
  },
  {
   "cell_type": "code",
   "execution_count": 19,
   "id": "67b8f2da",
   "metadata": {},
   "outputs": [
    {
     "data": {
      "text/plain": [
       "<selenium.webdriver.remote.webelement.WebElement (session=\"35eb3b803f2f9b7ae6fbfd0b0eb58b72\", element=\"4513b3ae-796c-4b0f-8335-3274abe68e32\")>"
      ]
     },
     "execution_count": 19,
     "metadata": {},
     "output_type": "execute_result"
    }
   ],
   "source": [
    "text_box = driver.find_element(By.NAME,'q')\n",
    "text_box"
   ]
  },
  {
   "cell_type": "markdown",
   "id": "9ff0c8aa",
   "metadata": {},
   "source": [
    "##### Typed in textbox"
   ]
  },
  {
   "cell_type": "code",
   "execution_count": 21,
   "id": "29d3d71c",
   "metadata": {},
   "outputs": [],
   "source": [
    "text_box.send_keys('Coding Ninjas')"
   ]
  },
  {
   "cell_type": "markdown",
   "id": "268343c4",
   "metadata": {},
   "source": [
    "##### Pressing the search button"
   ]
  },
  {
   "cell_type": "code",
   "execution_count": 22,
   "id": "ffa0c433",
   "metadata": {},
   "outputs": [],
   "source": [
    "text_box.submit()"
   ]
  },
  {
   "cell_type": "markdown",
   "id": "160beb25",
   "metadata": {},
   "source": [
    "### Doing the same with google maps    "
   ]
  },
  {
   "cell_type": "code",
   "execution_count": 25,
   "id": "a53f9773",
   "metadata": {},
   "outputs": [],
   "source": [
    "driver.get('https://www.google.com/maps')"
   ]
  },
  {
   "cell_type": "code",
   "execution_count": 27,
   "id": "a19813a9",
   "metadata": {},
   "outputs": [
    {
     "data": {
      "text/plain": [
       "<selenium.webdriver.remote.webelement.WebElement (session=\"ecd8f7a97dcc3a17b53f04c7374d9174\", element=\"16397a41-c9f8-4f53-800b-9cdf140c6206\")>"
      ]
     },
     "execution_count": 27,
     "metadata": {},
     "output_type": "execute_result"
    }
   ],
   "source": [
    "search_loc = driver.find_element(By.NAME,'q')\n",
    "search_loc"
   ]
  },
  {
   "cell_type": "code",
   "execution_count": 29,
   "id": "13fd0479",
   "metadata": {},
   "outputs": [],
   "source": [
    "search_loc.send_keys('Coding Ninjas')"
   ]
  },
  {
   "cell_type": "code",
   "execution_count": 30,
   "id": "3a59e031",
   "metadata": {},
   "outputs": [
    {
     "data": {
      "text/plain": [
       "<selenium.webdriver.remote.webelement.WebElement (session=\"ecd8f7a97dcc3a17b53f04c7374d9174\", element=\"7edc8c77-3eb7-40be-bab3-6eaee22b56db\")>"
      ]
     },
     "execution_count": 30,
     "metadata": {},
     "output_type": "execute_result"
    }
   ],
   "source": [
    "search_button = driver.find_element(By.ID,'searchbox-searchbutton')\n",
    "search_button"
   ]
  },
  {
   "cell_type": "code",
   "execution_count": 31,
   "id": "d3448cac",
   "metadata": {},
   "outputs": [],
   "source": [
    "search_button.click()"
   ]
  },
  {
   "cell_type": "code",
   "execution_count": null,
   "id": "801a04c9",
   "metadata": {},
   "outputs": [],
   "source": []
  }
 ],
 "metadata": {
  "kernelspec": {
   "display_name": "Python 3 (ipykernel)",
   "language": "python",
   "name": "python3"
  },
  "language_info": {
   "codemirror_mode": {
    "name": "ipython",
    "version": 3
   },
   "file_extension": ".py",
   "mimetype": "text/x-python",
   "name": "python",
   "nbconvert_exporter": "python",
   "pygments_lexer": "ipython3",
   "version": "3.10.5"
  }
 },
 "nbformat": 4,
 "nbformat_minor": 5
}
