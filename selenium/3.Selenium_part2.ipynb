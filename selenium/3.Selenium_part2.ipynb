{
 "cells": [
  {
   "cell_type": "code",
   "execution_count": 1,
   "id": "f207fc0a",
   "metadata": {},
   "outputs": [],
   "source": [
    "from selenium import webdriver\n",
    "from selenium.webdriver.common.by import By"
   ]
  },
  {
   "cell_type": "code",
   "execution_count": 2,
   "id": "48905cc6",
   "metadata": {},
   "outputs": [
    {
     "name": "stderr",
     "output_type": "stream",
     "text": [
      "C:\\Users\\karma\\AppData\\Local\\Temp\\ipykernel_17572\\3619007654.py:1: DeprecationWarning: executable_path has been deprecated, please pass in a Service object\n",
      "  driver = webdriver.Chrome(executable_path='webdriver/chrome/chromedriver.exe')\n"
     ]
    }
   ],
   "source": [
    "driver = webdriver.Chrome(executable_path='webdriver/chrome/chromedriver.exe')\n",
    "driver.maximize_window()"
   ]
  },
  {
   "cell_type": "markdown",
   "id": "17b5f4c9",
   "metadata": {},
   "source": [
    "## Implicit Wait\n",
    "##### Wait for few time then perform the desired task"
   ]
  },
  {
   "cell_type": "code",
   "execution_count": null,
   "id": "8143a403",
   "metadata": {},
   "outputs": [],
   "source": [
    "driver.get('https://www.dell.com/en-in')"
   ]
  },
  {
   "cell_type": "code",
   "execution_count": null,
   "id": "20a971ee",
   "metadata": {},
   "outputs": [],
   "source": [
    "text_box = driver.find_element(By.ID,'mh-search-input')\n",
    "text_box"
   ]
  },
  {
   "cell_type": "code",
   "execution_count": null,
   "id": "c7e55af5",
   "metadata": {},
   "outputs": [],
   "source": [
    "text_box.send_keys('gaming')"
   ]
  },
  {
   "cell_type": "code",
   "execution_count": null,
   "id": "3b2ea47b",
   "metadata": {},
   "outputs": [],
   "source": [
    "search_button = driver.find_element(By.XPATH,'//button[@aria-label = \"Search Dell\"]')\n",
    "search_button\n",
    "search_button.click()"
   ]
  },
  {
   "cell_type": "markdown",
   "id": "c9220336",
   "metadata": {},
   "source": [
    "##### Implementing implictly wait"
   ]
  },
  {
   "cell_type": "code",
   "execution_count": null,
   "id": "fd7d06c8",
   "metadata": {},
   "outputs": [],
   "source": [
    "driver.implicitly_wait(10)\n",
    "\n",
    "data = driver.find_element(By.XPATH,'//h3[contains(@class,\"ps-title\")]/a')\n",
    "print(data.text)\n",
    "\n",
    "data.click()"
   ]
  },
  {
   "cell_type": "markdown",
   "id": "a3102f39",
   "metadata": {},
   "source": [
    "## Explicit Wait\n",
    "##### here we can specify the upper limit means a time interval in which that process should over or else will get exception"
   ]
  },
  {
   "cell_type": "code",
   "execution_count": 3,
   "id": "04e0430b",
   "metadata": {},
   "outputs": [
    {
     "name": "stdout",
     "output_type": "stream",
     "text": [
      "G15 Gaming Laptop\n"
     ]
    }
   ],
   "source": [
    "from selenium.webdriver.support.ui import WebDriverWait\n",
    "from selenium.webdriver.support import expected_conditions as EC\n",
    "\n",
    "driver.get('https://www.dell.com/en-in')\n",
    "text_box = driver.find_element(By.ID,'mh-search-input')\n",
    "text_box.send_keys('gaming')\n",
    "search_button = driver.find_element(By.XPATH,'//button[@aria-label = \"Search Dell\"]')\n",
    "search_button.click()\n",
    "\n",
    "\n",
    "## Eplicit Wait\n",
    "wait = WebDriverWait(driver ,10)\n",
    "data = wait.until(EC.presence_of_element_located((By.XPATH,'//h3[contains(@class,\"ps-title\")]/a')))\n",
    "print(data.text)\n",
    "data.click()"
   ]
  },
  {
   "cell_type": "code",
   "execution_count": null,
   "id": "032c1187",
   "metadata": {},
   "outputs": [],
   "source": []
  }
 ],
 "metadata": {
  "kernelspec": {
   "display_name": "Python 3 (ipykernel)",
   "language": "python",
   "name": "python3"
  },
  "language_info": {
   "codemirror_mode": {
    "name": "ipython",
    "version": 3
   },
   "file_extension": ".py",
   "mimetype": "text/x-python",
   "name": "python",
   "nbconvert_exporter": "python",
   "pygments_lexer": "ipython3",
   "version": "3.10.5"
  }
 },
 "nbformat": 4,
 "nbformat_minor": 5
}
